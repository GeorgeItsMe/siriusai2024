{
 "cells": [
  {
   "cell_type": "markdown",
   "metadata": {},
   "source": [
    "> Данный ноутбук содержит **ML часть** и небольшое EDA <br>\n",
    "Парсер, основное EDA и код для создания embeddigs лежат отдельно"
   ]
  },
  {
   "cell_type": "code",
   "execution_count": 151,
   "metadata": {},
   "outputs": [],
   "source": [
    "# imports\n",
    "from collections import Counter\n",
    "import random\n",
    "import pandas as pd\n",
    "import numpy as np\n",
    "from catboost import CatBoostClassifier\n",
    "from catboost import CatBoostRegressor\n",
    "from sklearn.linear_model import LinearRegression\n",
    "from sklearn.model_selection import train_test_split\n",
    "from sklearn.metrics import accuracy_score, f1_score, classification_report\n",
    "from sklearn.metrics import mean_absolute_error, mean_squared_error\n",
    "import matplotlib.pyplot as plt\n",
    "import seaborn as sns"
   ]
  },
  {
   "cell_type": "code",
   "execution_count": 152,
   "metadata": {},
   "outputs": [],
   "source": [
    "import warnings\n",
    "\n",
    "warnings.filterwarnings(\"ignore\")"
   ]
  },
  {
   "cell_type": "markdown",
   "metadata": {},
   "source": [
    "# Data preparation"
   ]
  },
  {
   "cell_type": "code",
   "execution_count": 153,
   "metadata": {},
   "outputs": [],
   "source": [
    "# Main df\n",
    "df = pd.read_csv(r'C:\\Projects\\Sirius MTC\\Additional task\\all_reviews.csv')\n",
    "random_state = 42\n",
    "random.seed(random_state)\n",
    "df = df.sample(frac = 1, random_state=random_state)"
   ]
  },
  {
   "cell_type": "code",
   "execution_count": 154,
   "metadata": {},
   "outputs": [],
   "source": [
    "# df with embeddings\n",
    "df_embs = pd.read_csv(r'C:\\Projects\\Sirius MTC\\Additional task\\df_embs.csv')\n",
    "df_embs = pd.concat([df, df_embs], axis=1)\n",
    "df = df_embs"
   ]
  },
  {
   "cell_type": "code",
   "execution_count": 155,
   "metadata": {},
   "outputs": [
    {
     "data": {
      "text/html": [
       "<div>\n",
       "<style scoped>\n",
       "    .dataframe tbody tr th:only-of-type {\n",
       "        vertical-align: middle;\n",
       "    }\n",
       "\n",
       "    .dataframe tbody tr th {\n",
       "        vertical-align: top;\n",
       "    }\n",
       "\n",
       "    .dataframe thead th {\n",
       "        text-align: right;\n",
       "    }\n",
       "</style>\n",
       "<table border=\"1\" class=\"dataframe\">\n",
       "  <thead>\n",
       "    <tr style=\"text-align: right;\">\n",
       "      <th></th>\n",
       "      <th>name</th>\n",
       "      <th>rating</th>\n",
       "      <th>review</th>\n",
       "      <th>review_mark</th>\n",
       "      <th>0</th>\n",
       "      <th>1</th>\n",
       "      <th>2</th>\n",
       "      <th>3</th>\n",
       "      <th>4</th>\n",
       "      <th>5</th>\n",
       "      <th>...</th>\n",
       "      <th>302</th>\n",
       "      <th>303</th>\n",
       "      <th>304</th>\n",
       "      <th>305</th>\n",
       "      <th>306</th>\n",
       "      <th>307</th>\n",
       "      <th>308</th>\n",
       "      <th>309</th>\n",
       "      <th>310</th>\n",
       "      <th>311</th>\n",
       "    </tr>\n",
       "  </thead>\n",
       "  <tbody>\n",
       "    <tr>\n",
       "      <th>988</th>\n",
       "      <td>Хаятт Ридженси Москва Петровский Парк</td>\n",
       "      <td>5.0</td>\n",
       "      <td>Супер отель, оставлиаались в нём несколько раз.</td>\n",
       "      <td>5</td>\n",
       "      <td>-0.061416</td>\n",
       "      <td>0.039144</td>\n",
       "      <td>-0.046685</td>\n",
       "      <td>-0.050117</td>\n",
       "      <td>0.000160</td>\n",
       "      <td>0.057804</td>\n",
       "      <td>...</td>\n",
       "      <td>-0.003319</td>\n",
       "      <td>0.109974</td>\n",
       "      <td>-0.026827</td>\n",
       "      <td>0.030043</td>\n",
       "      <td>-0.012244</td>\n",
       "      <td>-0.008201</td>\n",
       "      <td>0.037206</td>\n",
       "      <td>-0.005365</td>\n",
       "      <td>0.049605</td>\n",
       "      <td>-0.052924</td>\n",
       "    </tr>\n",
       "    <tr>\n",
       "      <th>25841</th>\n",
       "      <td>Мартон Лион</td>\n",
       "      <td>4.3</td>\n",
       "      <td>не очень приятное место. ощущение, что попал в...</td>\n",
       "      <td>1</td>\n",
       "      <td>0.087052</td>\n",
       "      <td>0.044472</td>\n",
       "      <td>-0.002438</td>\n",
       "      <td>-0.022273</td>\n",
       "      <td>0.003987</td>\n",
       "      <td>0.014287</td>\n",
       "      <td>...</td>\n",
       "      <td>-0.001548</td>\n",
       "      <td>-0.058824</td>\n",
       "      <td>-0.009984</td>\n",
       "      <td>0.025663</td>\n",
       "      <td>-0.061996</td>\n",
       "      <td>0.020907</td>\n",
       "      <td>0.006581</td>\n",
       "      <td>-0.002890</td>\n",
       "      <td>0.018451</td>\n",
       "      <td>-0.052837</td>\n",
       "    </tr>\n",
       "    <tr>\n",
       "      <th>23644</th>\n",
       "      <td>Мартон Милан</td>\n",
       "      <td>4.3</td>\n",
       "      <td>Отель норм, недорого и всё есть, удобно добира...</td>\n",
       "      <td>4</td>\n",
       "      <td>0.045362</td>\n",
       "      <td>0.038191</td>\n",
       "      <td>-0.040473</td>\n",
       "      <td>-0.039696</td>\n",
       "      <td>0.052085</td>\n",
       "      <td>0.090011</td>\n",
       "      <td>...</td>\n",
       "      <td>0.011901</td>\n",
       "      <td>0.092133</td>\n",
       "      <td>-0.015409</td>\n",
       "      <td>0.011949</td>\n",
       "      <td>-0.017213</td>\n",
       "      <td>-0.040126</td>\n",
       "      <td>-0.049397</td>\n",
       "      <td>0.053041</td>\n",
       "      <td>0.047561</td>\n",
       "      <td>-0.053471</td>\n",
       "    </tr>\n",
       "    <tr>\n",
       "      <th>27118</th>\n",
       "      <td>Лабиринт</td>\n",
       "      <td>4.8</td>\n",
       "      <td>Мне очень понравится отель. Чистота, красиво в...</td>\n",
       "      <td>5</td>\n",
       "      <td>0.081832</td>\n",
       "      <td>0.059191</td>\n",
       "      <td>-0.049284</td>\n",
       "      <td>0.025196</td>\n",
       "      <td>0.000780</td>\n",
       "      <td>0.020221</td>\n",
       "      <td>...</td>\n",
       "      <td>0.004171</td>\n",
       "      <td>0.006809</td>\n",
       "      <td>0.011923</td>\n",
       "      <td>0.058928</td>\n",
       "      <td>-0.046833</td>\n",
       "      <td>0.033312</td>\n",
       "      <td>-0.013555</td>\n",
       "      <td>-0.027361</td>\n",
       "      <td>0.078544</td>\n",
       "      <td>-0.112140</td>\n",
       "    </tr>\n",
       "    <tr>\n",
       "      <th>18994</th>\n",
       "      <td>Concept</td>\n",
       "      <td>4.2</td>\n",
       "      <td>не удобно что заселение только с 14.00,если ра...</td>\n",
       "      <td>4</td>\n",
       "      <td>0.049160</td>\n",
       "      <td>0.028860</td>\n",
       "      <td>-0.059207</td>\n",
       "      <td>-0.024711</td>\n",
       "      <td>0.045860</td>\n",
       "      <td>-0.014111</td>\n",
       "      <td>...</td>\n",
       "      <td>0.012112</td>\n",
       "      <td>-0.087253</td>\n",
       "      <td>-0.015032</td>\n",
       "      <td>-0.010429</td>\n",
       "      <td>-0.029255</td>\n",
       "      <td>-0.002532</td>\n",
       "      <td>0.081536</td>\n",
       "      <td>0.063508</td>\n",
       "      <td>0.013626</td>\n",
       "      <td>0.004608</td>\n",
       "    </tr>\n",
       "  </tbody>\n",
       "</table>\n",
       "<p>5 rows × 316 columns</p>\n",
       "</div>"
      ],
      "text/plain": [
       "                                        name  rating  \\\n",
       "988    Хаятт Ридженси Москва Петровский Парк     5.0   \n",
       "25841                            Мартон Лион     4.3   \n",
       "23644                           Мартон Милан     4.3   \n",
       "27118                               Лабиринт     4.8   \n",
       "18994                                Concept     4.2   \n",
       "\n",
       "                                                  review  review_mark  \\\n",
       "988      Супер отель, оставлиаались в нём несколько раз.            5   \n",
       "25841  не очень приятное место. ощущение, что попал в...            1   \n",
       "23644  Отель норм, недорого и всё есть, удобно добира...            4   \n",
       "27118  Мне очень понравится отель. Чистота, красиво в...            5   \n",
       "18994  не удобно что заселение только с 14.00,если ра...            4   \n",
       "\n",
       "              0         1         2         3         4         5  ...  \\\n",
       "988   -0.061416  0.039144 -0.046685 -0.050117  0.000160  0.057804  ...   \n",
       "25841  0.087052  0.044472 -0.002438 -0.022273  0.003987  0.014287  ...   \n",
       "23644  0.045362  0.038191 -0.040473 -0.039696  0.052085  0.090011  ...   \n",
       "27118  0.081832  0.059191 -0.049284  0.025196  0.000780  0.020221  ...   \n",
       "18994  0.049160  0.028860 -0.059207 -0.024711  0.045860 -0.014111  ...   \n",
       "\n",
       "            302       303       304       305       306       307       308  \\\n",
       "988   -0.003319  0.109974 -0.026827  0.030043 -0.012244 -0.008201  0.037206   \n",
       "25841 -0.001548 -0.058824 -0.009984  0.025663 -0.061996  0.020907  0.006581   \n",
       "23644  0.011901  0.092133 -0.015409  0.011949 -0.017213 -0.040126 -0.049397   \n",
       "27118  0.004171  0.006809  0.011923  0.058928 -0.046833  0.033312 -0.013555   \n",
       "18994  0.012112 -0.087253 -0.015032 -0.010429 -0.029255 -0.002532  0.081536   \n",
       "\n",
       "            309       310       311  \n",
       "988   -0.005365  0.049605 -0.052924  \n",
       "25841 -0.002890  0.018451 -0.052837  \n",
       "23644  0.053041  0.047561 -0.053471  \n",
       "27118 -0.027361  0.078544 -0.112140  \n",
       "18994  0.063508  0.013626  0.004608  \n",
       "\n",
       "[5 rows x 316 columns]"
      ]
     },
     "execution_count": 155,
     "metadata": {},
     "output_type": "execute_result"
    }
   ],
   "source": [
    "df.sample(n=5)"
   ]
  },
  {
   "cell_type": "code",
   "execution_count": 156,
   "metadata": {},
   "outputs": [],
   "source": [
    "names_rating = dict(zip(df['name'], df['rating']))"
   ]
  },
  {
   "cell_type": "markdown",
   "metadata": {},
   "source": [
    "# EDA & preprocessing"
   ]
  },
  {
   "cell_type": "code",
   "execution_count": 157,
   "metadata": {},
   "outputs": [
    {
     "name": "stdout",
     "output_type": "stream",
     "text": [
      "Counter({5.0: 11, 4.3: 9, 4.2: 7, 4.9: 6, 4.7: 5, 4.6: 5, 4.8: 4, 4.5: 3, 4.4: 3, 4.1: 3, 4.0: 2, 3.8: 1, 3.6: 1, 3.5: 1, 3.4: 1, 3.2: 1})\n"
     ]
    }
   ],
   "source": [
    "# распределение рейтинга по отелям\n",
    "print(Counter(sorted(names_rating.values(), reverse=True)))"
   ]
  },
  {
   "cell_type": "code",
   "execution_count": 94,
   "metadata": {},
   "outputs": [
    {
     "data": {
      "image/png": "[encoded data removed]",
      "text/plain": [
       "<Figure size 640x480 with 1 Axes>"
      ]
     },
     "metadata": {},
     "output_type": "display_data"
    }
   ],
   "source": [
    "# распределение классов отзывов\n",
    "sns.countplot(x = 'review_mark', data = df);"
   ]
  },
  {
   "cell_type": "code",
   "execution_count": 158,
   "metadata": {},
   "outputs": [
    {
     "data": {
      "text/plain": [
       "review_mark\n",
       "5    15485\n",
       "4     4324\n",
       "3     3013\n",
       "1     2930\n",
       "2     1620\n",
       "0       29\n",
       "Name: count, dtype: int64"
      ]
     },
     "execution_count": 158,
     "metadata": {},
     "output_type": "execute_result"
    }
   ],
   "source": [
    "# распределение классов отзывов\n",
    "df['review_mark'].value_counts()"
   ]
  },
  {
   "cell_type": "markdown",
   "metadata": {},
   "source": [
    "## Обработка выбросов"
   ]
  },
  {
   "cell_type": "markdown",
   "metadata": {},
   "source": [
    "**Ноль** среди оценок это довольно странно, нужно проверить, является ли он выбросом"
   ]
  },
  {
   "cell_type": "code",
   "execution_count": 159,
   "metadata": {},
   "outputs": [
    {
     "data": {
      "text/html": [
       "<div>\n",
       "<style scoped>\n",
       "    .dataframe tbody tr th:only-of-type {\n",
       "        vertical-align: middle;\n",
       "    }\n",
       "\n",
       "    .dataframe tbody tr th {\n",
       "        vertical-align: top;\n",
       "    }\n",
       "\n",
       "    .dataframe thead th {\n",
       "        text-align: right;\n",
       "    }\n",
       "</style>\n",
       "<table border=\"1\" class=\"dataframe\">\n",
       "  <thead>\n",
       "    <tr style=\"text-align: right;\">\n",
       "      <th></th>\n",
       "      <th>name</th>\n",
       "      <th>rating</th>\n",
       "      <th>review</th>\n",
       "      <th>review_mark</th>\n",
       "      <th>0</th>\n",
       "      <th>1</th>\n",
       "      <th>2</th>\n",
       "      <th>3</th>\n",
       "      <th>4</th>\n",
       "      <th>5</th>\n",
       "      <th>...</th>\n",
       "      <th>302</th>\n",
       "      <th>303</th>\n",
       "      <th>304</th>\n",
       "      <th>305</th>\n",
       "      <th>306</th>\n",
       "      <th>307</th>\n",
       "      <th>308</th>\n",
       "      <th>309</th>\n",
       "      <th>310</th>\n",
       "      <th>311</th>\n",
       "    </tr>\n",
       "  </thead>\n",
       "  <tbody>\n",
       "    <tr>\n",
       "      <th>21046</th>\n",
       "      <td>Каретный р</td>\n",
       "      <td>4.8</td>\n",
       "      <td>Прекрасное расположение хостела,ходила пешком ...</td>\n",
       "      <td>0</td>\n",
       "      <td>0.099041</td>\n",
       "      <td>0.081117</td>\n",
       "      <td>-0.002550</td>\n",
       "      <td>0.047040</td>\n",
       "      <td>0.003113</td>\n",
       "      <td>0.004081</td>\n",
       "      <td>...</td>\n",
       "      <td>-0.005361</td>\n",
       "      <td>0.026957</td>\n",
       "      <td>-0.004361</td>\n",
       "      <td>0.039444</td>\n",
       "      <td>-0.032132</td>\n",
       "      <td>-0.026837</td>\n",
       "      <td>-0.064677</td>\n",
       "      <td>0.001484</td>\n",
       "      <td>0.023047</td>\n",
       "      <td>-0.055581</td>\n",
       "    </tr>\n",
       "    <tr>\n",
       "      <th>16388</th>\n",
       "      <td>Октябрьская</td>\n",
       "      <td>4.6</td>\n",
       "      <td>Ну, по моей системе \"звёзд\" -3,5! Интернет, ко...</td>\n",
       "      <td>0</td>\n",
       "      <td>0.077560</td>\n",
       "      <td>0.090209</td>\n",
       "      <td>-0.061399</td>\n",
       "      <td>-0.015193</td>\n",
       "      <td>0.037702</td>\n",
       "      <td>-0.044225</td>\n",
       "      <td>...</td>\n",
       "      <td>0.041969</td>\n",
       "      <td>-0.117805</td>\n",
       "      <td>-0.043619</td>\n",
       "      <td>0.045301</td>\n",
       "      <td>-0.019300</td>\n",
       "      <td>0.019922</td>\n",
       "      <td>0.016076</td>\n",
       "      <td>-0.003589</td>\n",
       "      <td>0.042437</td>\n",
       "      <td>-0.067447</td>\n",
       "    </tr>\n",
       "    <tr>\n",
       "      <th>3525</th>\n",
       "      <td>Холидей ИНН Москва Сокольники</td>\n",
       "      <td>5.0</td>\n",
       "      <td>Отличное расположение отеля относительно транс...</td>\n",
       "      <td>0</td>\n",
       "      <td>0.035764</td>\n",
       "      <td>0.041575</td>\n",
       "      <td>-0.074111</td>\n",
       "      <td>0.025686</td>\n",
       "      <td>-0.025298</td>\n",
       "      <td>0.021883</td>\n",
       "      <td>...</td>\n",
       "      <td>-0.018111</td>\n",
       "      <td>0.035965</td>\n",
       "      <td>0.009941</td>\n",
       "      <td>0.072949</td>\n",
       "      <td>-0.043337</td>\n",
       "      <td>0.027810</td>\n",
       "      <td>-0.004476</td>\n",
       "      <td>0.001538</td>\n",
       "      <td>0.039052</td>\n",
       "      <td>-0.049802</td>\n",
       "    </tr>\n",
       "    <tr>\n",
       "      <th>17899</th>\n",
       "      <td>Аэрополис</td>\n",
       "      <td>4.3</td>\n",
       "      <td>Аэрополис 3 - хорошая гостиница. Удобное распо...</td>\n",
       "      <td>0</td>\n",
       "      <td>0.097203</td>\n",
       "      <td>0.089601</td>\n",
       "      <td>-0.017354</td>\n",
       "      <td>0.030351</td>\n",
       "      <td>0.024520</td>\n",
       "      <td>0.025075</td>\n",
       "      <td>...</td>\n",
       "      <td>0.004920</td>\n",
       "      <td>0.061938</td>\n",
       "      <td>-0.024698</td>\n",
       "      <td>0.035476</td>\n",
       "      <td>-0.021027</td>\n",
       "      <td>-0.007084</td>\n",
       "      <td>-0.041904</td>\n",
       "      <td>0.042528</td>\n",
       "      <td>0.042714</td>\n",
       "      <td>-0.063627</td>\n",
       "    </tr>\n",
       "    <tr>\n",
       "      <th>4089</th>\n",
       "      <td>Discovery</td>\n",
       "      <td>4.9</td>\n",
       "      <td>Отличный отель.</td>\n",
       "      <td>0</td>\n",
       "      <td>-0.089863</td>\n",
       "      <td>-0.001890</td>\n",
       "      <td>0.006531</td>\n",
       "      <td>-0.006715</td>\n",
       "      <td>0.007370</td>\n",
       "      <td>0.039042</td>\n",
       "      <td>...</td>\n",
       "      <td>0.032535</td>\n",
       "      <td>0.147178</td>\n",
       "      <td>-0.052213</td>\n",
       "      <td>-0.013498</td>\n",
       "      <td>0.003881</td>\n",
       "      <td>-0.010922</td>\n",
       "      <td>-0.038159</td>\n",
       "      <td>0.082746</td>\n",
       "      <td>0.097020</td>\n",
       "      <td>-0.084927</td>\n",
       "    </tr>\n",
       "    <tr>\n",
       "      <th>20911</th>\n",
       "      <td>Каретный р</td>\n",
       "      <td>4.8</td>\n",
       "      <td>Единственный плюс это расположение., было на у...</td>\n",
       "      <td>0</td>\n",
       "      <td>0.107874</td>\n",
       "      <td>0.027656</td>\n",
       "      <td>0.011323</td>\n",
       "      <td>0.004794</td>\n",
       "      <td>-0.007671</td>\n",
       "      <td>0.009962</td>\n",
       "      <td>...</td>\n",
       "      <td>-0.026353</td>\n",
       "      <td>-0.077569</td>\n",
       "      <td>-0.006529</td>\n",
       "      <td>0.049879</td>\n",
       "      <td>-0.021546</td>\n",
       "      <td>0.027372</td>\n",
       "      <td>-0.027612</td>\n",
       "      <td>-0.014768</td>\n",
       "      <td>-0.018679</td>\n",
       "      <td>-0.040801</td>\n",
       "    </tr>\n",
       "    <tr>\n",
       "      <th>5600</th>\n",
       "      <td>Отель Мартон ВДНХ</td>\n",
       "      <td>4.4</td>\n",
       "      <td>Отель , в принципе, неплохой, расположен недал...</td>\n",
       "      <td>0</td>\n",
       "      <td>0.087960</td>\n",
       "      <td>0.058836</td>\n",
       "      <td>-0.015434</td>\n",
       "      <td>0.040328</td>\n",
       "      <td>-0.007853</td>\n",
       "      <td>0.013195</td>\n",
       "      <td>...</td>\n",
       "      <td>-0.000819</td>\n",
       "      <td>-0.016339</td>\n",
       "      <td>-0.013524</td>\n",
       "      <td>0.038814</td>\n",
       "      <td>-0.032349</td>\n",
       "      <td>-0.008702</td>\n",
       "      <td>-0.030965</td>\n",
       "      <td>-0.010403</td>\n",
       "      <td>-0.005726</td>\n",
       "      <td>-0.043739</td>\n",
       "    </tr>\n",
       "    <tr>\n",
       "      <th>1526</th>\n",
       "      <td>Арт Галакти</td>\n",
       "      <td>3.8</td>\n",
       "      <td>Неплохое место для размещения в столице недале...</td>\n",
       "      <td>0</td>\n",
       "      <td>0.078398</td>\n",
       "      <td>0.048525</td>\n",
       "      <td>-0.069510</td>\n",
       "      <td>0.032555</td>\n",
       "      <td>-0.020808</td>\n",
       "      <td>0.034220</td>\n",
       "      <td>...</td>\n",
       "      <td>0.017146</td>\n",
       "      <td>0.030351</td>\n",
       "      <td>-0.024858</td>\n",
       "      <td>0.024106</td>\n",
       "      <td>-0.048335</td>\n",
       "      <td>0.015065</td>\n",
       "      <td>-0.027696</td>\n",
       "      <td>0.036162</td>\n",
       "      <td>0.029504</td>\n",
       "      <td>-0.081894</td>\n",
       "    </tr>\n",
       "    <tr>\n",
       "      <th>3577</th>\n",
       "      <td>Moscow Holiday Hotel</td>\n",
       "      <td>4.5</td>\n",
       "      <td>условия проживания вполне хорошие. Чисто, все ...</td>\n",
       "      <td>0</td>\n",
       "      <td>0.079843</td>\n",
       "      <td>0.037056</td>\n",
       "      <td>-0.058376</td>\n",
       "      <td>0.046340</td>\n",
       "      <td>0.005320</td>\n",
       "      <td>-0.024601</td>\n",
       "      <td>...</td>\n",
       "      <td>-0.017284</td>\n",
       "      <td>-0.016602</td>\n",
       "      <td>-0.012663</td>\n",
       "      <td>0.046418</td>\n",
       "      <td>-0.054798</td>\n",
       "      <td>-0.025251</td>\n",
       "      <td>-0.014432</td>\n",
       "      <td>-0.016004</td>\n",
       "      <td>0.001574</td>\n",
       "      <td>-0.037331</td>\n",
       "    </tr>\n",
       "    <tr>\n",
       "      <th>26923</th>\n",
       "      <td>Лабиринт</td>\n",
       "      <td>4.8</td>\n",
       "      <td>Очень понравилось ,остановились на ночь по пут...</td>\n",
       "      <td>0</td>\n",
       "      <td>0.058248</td>\n",
       "      <td>0.021985</td>\n",
       "      <td>0.002763</td>\n",
       "      <td>0.027483</td>\n",
       "      <td>0.002664</td>\n",
       "      <td>0.024203</td>\n",
       "      <td>...</td>\n",
       "      <td>-0.038193</td>\n",
       "      <td>-0.002308</td>\n",
       "      <td>-0.013884</td>\n",
       "      <td>0.027346</td>\n",
       "      <td>-0.047828</td>\n",
       "      <td>0.003497</td>\n",
       "      <td>-0.067121</td>\n",
       "      <td>-0.068787</td>\n",
       "      <td>-0.007577</td>\n",
       "      <td>-0.010483</td>\n",
       "    </tr>\n",
       "  </tbody>\n",
       "</table>\n",
       "<p>10 rows × 316 columns</p>\n",
       "</div>"
      ],
      "text/plain": [
       "                                name  rating  \\\n",
       "21046                     Каретный р     4.8   \n",
       "16388                    Октябрьская     4.6   \n",
       "3525   Холидей ИНН Москва Сокольники     5.0   \n",
       "17899                      Аэрополис     4.3   \n",
       "4089                       Discovery     4.9   \n",
       "20911                     Каретный р     4.8   \n",
       "5600               Отель Мартон ВДНХ     4.4   \n",
       "1526                     Арт Галакти     3.8   \n",
       "3577            Moscow Holiday Hotel     4.5   \n",
       "26923                       Лабиринт     4.8   \n",
       "\n",
       "                                                  review  review_mark  \\\n",
       "21046  Прекрасное расположение хостела,ходила пешком ...            0   \n",
       "16388  Ну, по моей системе \"звёзд\" -3,5! Интернет, ко...            0   \n",
       "3525   Отличное расположение отеля относительно транс...            0   \n",
       "17899  Аэрополис 3 - хорошая гостиница. Удобное распо...            0   \n",
       "4089                                     Отличный отель.            0   \n",
       "20911  Единственный плюс это расположение., было на у...            0   \n",
       "5600   Отель , в принципе, неплохой, расположен недал...            0   \n",
       "1526   Неплохое место для размещения в столице недале...            0   \n",
       "3577   условия проживания вполне хорошие. Чисто, все ...            0   \n",
       "26923  Очень понравилось ,остановились на ночь по пут...            0   \n",
       "\n",
       "              0         1         2         3         4         5  ...  \\\n",
       "21046  0.099041  0.081117 -0.002550  0.047040  0.003113  0.004081  ...   \n",
       "16388  0.077560  0.090209 -0.061399 -0.015193  0.037702 -0.044225  ...   \n",
       "3525   0.035764  0.041575 -0.074111  0.025686 -0.025298  0.021883  ...   \n",
       "17899  0.097203  0.089601 -0.017354  0.030351  0.024520  0.025075  ...   \n",
       "4089  -0.089863 -0.001890  0.006531 -0.006715  0.007370  0.039042  ...   \n",
       "20911  0.107874  0.027656  0.011323  0.004794 -0.007671  0.009962  ...   \n",
       "5600   0.087960  0.058836 -0.015434  0.040328 -0.007853  0.013195  ...   \n",
       "1526   0.078398  0.048525 -0.069510  0.032555 -0.020808  0.034220  ...   \n",
       "3577   0.079843  0.037056 -0.058376  0.046340  0.005320 -0.024601  ...   \n",
       "26923  0.058248  0.021985  0.002763  0.027483  0.002664  0.024203  ...   \n",
       "\n",
       "            302       303       304       305       306       307       308  \\\n",
       "21046 -0.005361  0.026957 -0.004361  0.039444 -0.032132 -0.026837 -0.064677   \n",
       "16388  0.041969 -0.117805 -0.043619  0.045301 -0.019300  0.019922  0.016076   \n",
       "3525  -0.018111  0.035965  0.009941  0.072949 -0.043337  0.027810 -0.004476   \n",
       "17899  0.004920  0.061938 -0.024698  0.035476 -0.021027 -0.007084 -0.041904   \n",
       "4089   0.032535  0.147178 -0.052213 -0.013498  0.003881 -0.010922 -0.038159   \n",
       "20911 -0.026353 -0.077569 -0.006529  0.049879 -0.021546  0.027372 -0.027612   \n",
       "5600  -0.000819 -0.016339 -0.013524  0.038814 -0.032349 -0.008702 -0.030965   \n",
       "1526   0.017146  0.030351 -0.024858  0.024106 -0.048335  0.015065 -0.027696   \n",
       "3577  -0.017284 -0.016602 -0.012663  0.046418 -0.054798 -0.025251 -0.014432   \n",
       "26923 -0.038193 -0.002308 -0.013884  0.027346 -0.047828  0.003497 -0.067121   \n",
       "\n",
       "            309       310       311  \n",
       "21046  0.001484  0.023047 -0.055581  \n",
       "16388 -0.003589  0.042437 -0.067447  \n",
       "3525   0.001538  0.039052 -0.049802  \n",
       "17899  0.042528  0.042714 -0.063627  \n",
       "4089   0.082746  0.097020 -0.084927  \n",
       "20911 -0.014768 -0.018679 -0.040801  \n",
       "5600  -0.010403 -0.005726 -0.043739  \n",
       "1526   0.036162  0.029504 -0.081894  \n",
       "3577  -0.016004  0.001574 -0.037331  \n",
       "26923 -0.068787 -0.007577 -0.010483  \n",
       "\n",
       "[10 rows x 316 columns]"
      ]
     },
     "execution_count": 159,
     "metadata": {},
     "output_type": "execute_result"
    }
   ],
   "source": [
    "df[df['review_mark'] == 0].sample(n=10)"
   ]
  },
  {
   "cell_type": "markdown",
   "metadata": {},
   "source": [
    "**Класс ноль** оказался выбросом, на это указывает: \n",
    "* Количество отзывов данного класса в сравнении с другими\n",
    "* Содержание этих отзывов\n",
    "* Здравый смысл"
   ]
  },
  {
   "cell_type": "code",
   "execution_count": 160,
   "metadata": {},
   "outputs": [],
   "source": [
    "df = df[df['review_mark'] != 0]"
   ]
  },
  {
   "cell_type": "markdown",
   "metadata": {},
   "source": [
    "## Перед обучением модели"
   ]
  },
  {
   "cell_type": "markdown",
   "metadata": {},
   "source": [
    ">После *анализа данных* мы смогли выяснить, что отзывов у нас достаточно много, а вот отелей нет"
   ]
  },
  {
   "cell_type": "markdown",
   "metadata": {},
   "source": [
    "Нашей **основной задачей** является предсказание рейтинга отеля на основе отзывов, рассмотрим несколько подходов:\n",
    "* Предсказание оценки для каждого отзыва и последующая агрегация(может быть как простое среднее, так и что-то более сложное) результатов\n",
    "* Предсказание рейтинга отеля напрямую <br>\n",
    "\n",
    "Акцент будет сделан на **первый способ**, т.к из анализа данных мы смогли выяснить, что данных по оценкам отзывов <br>\n",
    "сильно больше, это позволит сделать нашу модель более стабильной и менее склонной к переобучению, чем при **втором способе**"
   ]
  },
  {
   "cell_type": "markdown",
   "metadata": {},
   "source": [
    "# Support functions"
   ]
  },
  {
   "cell_type": "code",
   "execution_count": 161,
   "metadata": {},
   "outputs": [],
   "source": [
    "# используется для предсказаний на один отель\n",
    "def prepared_agg_df(pred):\n",
    "    pred = pred.reshape(len(pred),)\n",
    "    counter_pred = Counter(pred)\n",
    "    cnt_1, cnt_2, cnt_3, cnt_4, cnt_5 = counter_pred[1], counter_pred[2], counter_pred[3], counter_pred[4], counter_pred[5]\n",
    "    mean_pred, median_pred = round(pred.mean(), 4), np.median(pred)\n",
    "    arr = [cnt_1, cnt_2, cnt_3, cnt_4, cnt_5, mean_pred, median_pred]\n",
    "    \n",
    "    return arr"
   ]
  },
  {
   "cell_type": "code",
   "execution_count": 162,
   "metadata": {},
   "outputs": [],
   "source": [
    "# metrics\n",
    "def hotel_metrics(df, hotel_names, review_model, rating_model=None, for_each=False, print_metrics=True):\n",
    "    mean_scores = []\n",
    "    test_names_rating = dict(zip(df['name'], df['rating']))\n",
    "    for name in hotel_names:\n",
    "        cur_df = df[df['name'] == name]\n",
    "        X_test_cur, y_test_cur = pd.DataFrame(cur_df['review'], columns=['review']), cur_df['review_mark']\n",
    "        preds = review_model.predict(X_test_cur)\n",
    "        if rating_model != None:\n",
    "            agg_preds = [prepared_agg_df(preds)]\n",
    "            num = rating_model.predict(agg_preds)[0]\n",
    "            mean_score = min(round(num, 1), 5)\n",
    "        else:\n",
    "            mean_score = preds.mean()\n",
    "        mean_scores.append(mean_score)\n",
    "        if for_each and print_metrics:\n",
    "            print(f'Accuracy_score {name}: {accuracy_score(y_test_cur, preds)}')\n",
    "            print(f'F1_score {name}: {f1_score(y_test_cur, preds, average=\"weighted\")}')\n",
    "            print(f'Mean pred {name} rating: {mean_score}, real rating: {names_rating[name]}')\n",
    "            print()\n",
    "    \n",
    "    if print_metrics:\n",
    "        MAE = mean_absolute_error(list(test_names_rating.values()), mean_scores)\n",
    "        MSE = mean_squared_error(list(test_names_rating.values()), mean_scores)\n",
    "        RMSE = np.sqrt(MSE)\n",
    "        print(f'MAE_error: {MAE}')\n",
    "        print(f'MSE_error: {MSE}')\n",
    "        print(f'RMSE_error: {RMSE}')\n",
    "    \n",
    "    return MAE, MSE, RMSE"
   ]
  },
  {
   "cell_type": "code",
   "execution_count": 163,
   "metadata": {},
   "outputs": [],
   "source": [
    "# разделение данных по отелям\n",
    "test_names = random.sample(list(names_rating.keys()), round(len(names_rating.keys()) * 0.2))\n",
    "train_df, test_df = df[~df['name'].isin(test_names)], df[df['name'].isin(test_names)]"
   ]
  },
  {
   "cell_type": "markdown",
   "metadata": {},
   "source": [
    "# Method number 1"
   ]
  },
  {
   "cell_type": "code",
   "execution_count": 164,
   "metadata": {},
   "outputs": [],
   "source": [
    "X_review_train, y_review_train = pd.DataFrame(train_df['review'], columns=['review']), train_df['review_mark']"
   ]
  },
  {
   "cell_type": "code",
   "execution_count": 165,
   "metadata": {},
   "outputs": [],
   "source": [
    "# данные с эмбедингами\n",
    "X_review_train_embs, y_review_train_embs = train_df.drop(['name', 'rating', 'review_mark'], axis=1), train_df['review_mark']"
   ]
  },
  {
   "cell_type": "code",
   "execution_count": 166,
   "metadata": {},
   "outputs": [],
   "source": [
    "all_method_one_metrics = dict()"
   ]
  },
  {
   "cell_type": "markdown",
   "metadata": {},
   "source": [
    "## Build review model"
   ]
  },
  {
   "cell_type": "code",
   "execution_count": 167,
   "metadata": {},
   "outputs": [],
   "source": [
    "text_features = ['review']"
   ]
  },
  {
   "cell_type": "markdown",
   "metadata": {},
   "source": [
    "### SoloCatboost"
   ]
  },
  {
   "cell_type": "code",
   "execution_count": 168,
   "metadata": {},
   "outputs": [
    {
     "name": "stdout",
     "output_type": "stream",
     "text": [
      "Learning rate set to 0.121305\n",
      "0:\tlearn: 0.5371649\ttotal: 13ms\tremaining: 13s\n",
      "200:\tlearn: 0.6455738\ttotal: 2.1s\tremaining: 8.37s\n",
      "400:\tlearn: 0.6927129\ttotal: 4.18s\tremaining: 6.25s\n",
      "600:\tlearn: 0.7265939\ttotal: 6.24s\tremaining: 4.14s\n",
      "800:\tlearn: 0.7529220\ttotal: 8.27s\tremaining: 2.05s\n",
      "999:\tlearn: 0.7738841\ttotal: 10.2s\tremaining: 0us\n"
     ]
    },
    {
     "data": {
      "text/plain": [
       "<catboost.core.CatBoostClassifier at 0x1dfb7b24990>"
      ]
     },
     "execution_count": 168,
     "metadata": {},
     "output_type": "execute_result"
    }
   ],
   "source": [
    "model_cat = CatBoostClassifier(eval_metric='TotalF1', text_features=text_features, loss_function='MultiClass', \n",
    "                           task_type='GPU', auto_class_weights='SqrtBalanced')\n",
    "model_cat.fit(X_review_train, y_review_train, verbose=200)"
   ]
  },
  {
   "cell_type": "markdown",
   "metadata": {},
   "source": [
    "### Catboost with embeddings"
   ]
  },
  {
   "cell_type": "code",
   "execution_count": 169,
   "metadata": {},
   "outputs": [
    {
     "name": "stdout",
     "output_type": "stream",
     "text": [
      "Learning rate set to 0.121305\n",
      "0:\tlearn: 0.5386940\ttotal: 19ms\tremaining: 19s\n",
      "200:\tlearn: 0.7261721\ttotal: 3.15s\tremaining: 12.5s\n",
      "400:\tlearn: 0.8164289\ttotal: 6.32s\tremaining: 9.43s\n",
      "600:\tlearn: 0.8724832\ttotal: 9.31s\tremaining: 6.18s\n",
      "800:\tlearn: 0.9077240\ttotal: 12.4s\tremaining: 3.07s\n",
      "999:\tlearn: 0.9333095\ttotal: 15.3s\tremaining: 0us\n"
     ]
    },
    {
     "data": {
      "text/plain": [
       "<catboost.core.CatBoostClassifier at 0x1dfc052ed50>"
      ]
     },
     "execution_count": 169,
     "metadata": {},
     "output_type": "execute_result"
    }
   ],
   "source": [
    "model_embs = CatBoostClassifier(eval_metric='TotalF1', text_features=text_features, loss_function='MultiClass', \n",
    "                           task_type='GPU', auto_class_weights='SqrtBalanced')\n",
    "model_embs.fit(X_review_train_embs, y_review_train_embs, verbose=200)"
   ]
  },
  {
   "cell_type": "markdown",
   "metadata": {},
   "source": [
    "### Catboost for rating model"
   ]
  },
  {
   "cell_type": "code",
   "execution_count": 170,
   "metadata": {},
   "outputs": [],
   "source": [
    "# кросс-валидация с одним семплом для предотвращения переобучения при создании rating модели\n",
    "train_names = train_df['name'].unique().tolist()\n",
    "best_model = ''\n",
    "best_score = 0\n",
    "df_agg = []\n",
    "\n",
    "for train_name in train_names:\n",
    "    X_train, X_test = train_df[train_df['name'] != train_name], train_df[train_df['name'] == train_name]\n",
    "    X_train_cur, y_train_cur = pd.DataFrame(X_train['review'], columns=['review']), X_train['review_mark']\n",
    "    X_test_cur, y_test_cur = pd.DataFrame(X_test['review'], columns=['review']), X_test['review_mark']\n",
    "\n",
    "    model = CatBoostClassifier(eval_metric='TotalF1', text_features=text_features, loss_function='MultiClass', \n",
    "                           task_type='GPU', auto_class_weights='SqrtBalanced')\n",
    "    model.fit(X_train_cur, y_train_cur, verbose=0)\n",
    "\n",
    "    if model.best_score_['learn']['TotalF1'] > best_score:\n",
    "        best_score = model.best_score_['learn']['TotalF1']\n",
    "        best_model = model\n",
    "\n",
    "    pred = model.predict(X_test_cur)\n",
    "    df_agg.append(prepared_agg_df(pred) + [names_rating[train_name]])\n",
    "\n",
    "new_df = pd.DataFrame(df_agg, \n",
    "                           columns=['cnt_1', 'cnt_2', 'cnt_3', 'cnt_4', 'cnt_5',\n",
    "                                    'mean_pred', 'median_pred','rating'])"
   ]
  },
  {
   "cell_type": "code",
   "execution_count": 171,
   "metadata": {},
   "outputs": [
    {
     "data": {
      "text/html": [
       "<div>\n",
       "<style scoped>\n",
       "    .dataframe tbody tr th:only-of-type {\n",
       "        vertical-align: middle;\n",
       "    }\n",
       "\n",
       "    .dataframe tbody tr th {\n",
       "        vertical-align: top;\n",
       "    }\n",
       "\n",
       "    .dataframe thead th {\n",
       "        text-align: right;\n",
       "    }\n",
       "</style>\n",
       "<table border=\"1\" class=\"dataframe\">\n",
       "  <thead>\n",
       "    <tr style=\"text-align: right;\">\n",
       "      <th></th>\n",
       "      <th>cnt_1</th>\n",
       "      <th>cnt_2</th>\n",
       "      <th>cnt_3</th>\n",
       "      <th>cnt_4</th>\n",
       "      <th>cnt_5</th>\n",
       "      <th>mean_pred</th>\n",
       "      <th>median_pred</th>\n",
       "      <th>rating</th>\n",
       "    </tr>\n",
       "  </thead>\n",
       "  <tbody>\n",
       "    <tr>\n",
       "      <th>0</th>\n",
       "      <td>13</td>\n",
       "      <td>3</td>\n",
       "      <td>21</td>\n",
       "      <td>81</td>\n",
       "      <td>382</td>\n",
       "      <td>4.6320</td>\n",
       "      <td>5.0</td>\n",
       "      <td>5.0</td>\n",
       "    </tr>\n",
       "    <tr>\n",
       "      <th>1</th>\n",
       "      <td>33</td>\n",
       "      <td>22</td>\n",
       "      <td>89</td>\n",
       "      <td>126</td>\n",
       "      <td>227</td>\n",
       "      <td>3.9899</td>\n",
       "      <td>4.0</td>\n",
       "      <td>4.3</td>\n",
       "    </tr>\n",
       "    <tr>\n",
       "      <th>2</th>\n",
       "      <td>64</td>\n",
       "      <td>7</td>\n",
       "      <td>17</td>\n",
       "      <td>33</td>\n",
       "      <td>379</td>\n",
       "      <td>4.3120</td>\n",
       "      <td>5.0</td>\n",
       "      <td>5.0</td>\n",
       "    </tr>\n",
       "    <tr>\n",
       "      <th>3</th>\n",
       "      <td>120</td>\n",
       "      <td>22</td>\n",
       "      <td>55</td>\n",
       "      <td>63</td>\n",
       "      <td>239</td>\n",
       "      <td>3.5591</td>\n",
       "      <td>4.0</td>\n",
       "      <td>4.2</td>\n",
       "    </tr>\n",
       "    <tr>\n",
       "      <th>4</th>\n",
       "      <td>59</td>\n",
       "      <td>19</td>\n",
       "      <td>50</td>\n",
       "      <td>60</td>\n",
       "      <td>212</td>\n",
       "      <td>3.8675</td>\n",
       "      <td>5.0</td>\n",
       "      <td>4.4</td>\n",
       "    </tr>\n",
       "  </tbody>\n",
       "</table>\n",
       "</div>"
      ],
      "text/plain": [
       "   cnt_1  cnt_2  cnt_3  cnt_4  cnt_5  mean_pred  median_pred  rating\n",
       "0     13      3     21     81    382     4.6320          5.0     5.0\n",
       "1     33     22     89    126    227     3.9899          4.0     4.3\n",
       "2     64      7     17     33    379     4.3120          5.0     5.0\n",
       "3    120     22     55     63    239     3.5591          4.0     4.2\n",
       "4     59     19     50     60    212     3.8675          5.0     4.4"
      ]
     },
     "execution_count": 171,
     "metadata": {},
     "output_type": "execute_result"
    }
   ],
   "source": [
    "new_df.head()"
   ]
  },
  {
   "cell_type": "markdown",
   "metadata": {},
   "source": [
    "## Build rating model"
   ]
  },
  {
   "cell_type": "code",
   "execution_count": 172,
   "metadata": {},
   "outputs": [],
   "source": [
    "X_rating_train, y_rating_train = new_df.drop(['rating'], axis=1), new_df['rating']"
   ]
  },
  {
   "cell_type": "markdown",
   "metadata": {},
   "source": [
    "### Simple mean"
   ]
  },
  {
   "cell_type": "code",
   "execution_count": 181,
   "metadata": {},
   "outputs": [
    {
     "name": "stdout",
     "output_type": "stream",
     "text": [
      "MAE_error: 0.8759390477777197\n",
      "MSE_error: 1.1485306739144479\n",
      "RMSE_error: 1.0716952336902725\n"
     ]
    }
   ],
   "source": [
    "MAE, MSE, RMSE = hotel_metrics(test_df, test_names, model_cat)\n",
    "all_method_one_metrics['rating_mean'] = [MAE, MSE, RMSE]"
   ]
  },
  {
   "cell_type": "markdown",
   "metadata": {},
   "source": [
    "### Rating catboost"
   ]
  },
  {
   "cell_type": "code",
   "execution_count": 180,
   "metadata": {},
   "outputs": [
    {
     "name": "stdout",
     "output_type": "stream",
     "text": [
      "Learning rate set to 0.025505\n",
      "0:\tlearn: 0.3495329\ttotal: 759us\tremaining: 758ms\n",
      "100:\tlearn: 0.1370045\ttotal: 37.4ms\tremaining: 333ms\n",
      "200:\tlearn: 0.0839708\ttotal: 72.9ms\tremaining: 290ms\n",
      "300:\tlearn: 0.0549572\ttotal: 109ms\tremaining: 253ms\n",
      "400:\tlearn: 0.0393751\ttotal: 144ms\tremaining: 215ms\n",
      "500:\tlearn: 0.0274758\ttotal: 180ms\tremaining: 180ms\n",
      "600:\tlearn: 0.0191786\ttotal: 219ms\tremaining: 145ms\n",
      "700:\tlearn: 0.0140791\ttotal: 256ms\tremaining: 109ms\n",
      "800:\tlearn: 0.0102776\ttotal: 295ms\tremaining: 73.2ms\n",
      "900:\tlearn: 0.0078874\ttotal: 333ms\tremaining: 36.6ms\n",
      "999:\tlearn: 0.0057147\ttotal: 373ms\tremaining: 0us\n",
      "MAE_error: 0.5615384615384618\n",
      "MSE_error: 0.5300000000000001\n",
      "RMSE_error: 0.7280109889280519\n"
     ]
    }
   ],
   "source": [
    "from catboost import CatBoostRegressor\n",
    "cat_reg = CatBoostRegressor(eval_metric='RMSE')\n",
    "cat_reg.fit(X_rating_train, y_rating_train, verbose=100)\n",
    "MAE, MSE, RMSE = hotel_metrics(test_df, test_names, model_cat, rating_model=cat_reg)\n",
    "all_method_one_metrics['rating_cat'] = [MAE, MSE, RMSE]"
   ]
  },
  {
   "cell_type": "markdown",
   "metadata": {},
   "source": [
    "### Linear rating models"
   ]
  },
  {
   "cell_type": "code",
   "execution_count": 182,
   "metadata": {},
   "outputs": [
    {
     "name": "stdout",
     "output_type": "stream",
     "text": [
      "MAE_error: 0.653846153846154\n",
      "MSE_error: 0.7269230769230771\n",
      "RMSE_error: 0.8525978400882078\n"
     ]
    }
   ],
   "source": [
    "from sklearn.linear_model import LinearRegression\n",
    "linear_model = LinearRegression()\n",
    "linear_model.fit(X_rating_train, y_rating_train)\n",
    "MAE, MSE, RMSE = hotel_metrics(test_df, test_names, model_cat, rating_model=linear_model)\n",
    "all_method_one_metrics['rating_linear'] = [MAE, MSE, RMSE]"
   ]
  },
  {
   "cell_type": "code",
   "execution_count": 183,
   "metadata": {},
   "outputs": [
    {
     "name": "stdout",
     "output_type": "stream",
     "text": [
      "MAE_error: 0.653846153846154\n",
      "MSE_error: 0.7284615384615386\n",
      "RMSE_error: 0.8534995831642442\n"
     ]
    }
   ],
   "source": [
    "from sklearn.linear_model import Ridge\n",
    "ridge_model = Ridge(alpha=0.2)\n",
    "ridge_model.fit(X_rating_train, y_rating_train)\n",
    "MAE, MSE, RMSE = hotel_metrics(test_df, test_names, model_cat, rating_model=ridge_model)\n",
    "all_method_one_metrics['rating_ridge'] = [MAE, MSE, RMSE]"
   ]
  },
  {
   "cell_type": "markdown",
   "metadata": {},
   "source": [
    "# Method number 2"
   ]
  },
  {
   "cell_type": "code",
   "execution_count": 139,
   "metadata": {},
   "outputs": [],
   "source": [
    "embs_feats = list(map(str, [i for i in range(312)]))\n",
    "mean_embeddings_train = train_df.groupby('name').agg(\n",
    "    **{f'average_emb_{i}': (f'{i}', 'mean') for i in range(312)},\n",
    "    average_rating=('rating', 'mean')).reset_index()"
   ]
  },
  {
   "cell_type": "code",
   "execution_count": 140,
   "metadata": {},
   "outputs": [],
   "source": [
    "X_rating_train_embs, y_rating_train_embs = mean_embeddings_train[[f'average_emb_{i}' for i in range(312)]], mean_embeddings_train['average_rating']"
   ]
  },
  {
   "cell_type": "markdown",
   "metadata": {},
   "source": [
    "## Catboost"
   ]
  },
  {
   "cell_type": "code",
   "execution_count": 141,
   "metadata": {},
   "outputs": [
    {
     "name": "stdout",
     "output_type": "stream",
     "text": [
      "Learning rate set to 0.027282\n",
      "0:\tlearn: 0.3494103\ttotal: 10.2ms\tremaining: 10.2s\n",
      "200:\tlearn: 0.0513955\ttotal: 1.85s\tremaining: 7.38s\n",
      "400:\tlearn: 0.0263439\ttotal: 3.71s\tremaining: 5.55s\n",
      "600:\tlearn: 0.0172376\ttotal: 5.69s\tremaining: 3.78s\n",
      "800:\tlearn: 0.0117291\ttotal: 7.49s\tremaining: 1.86s\n",
      "999:\tlearn: 0.0088834\ttotal: 9.37s\tremaining: 0us\n"
     ]
    },
    {
     "data": {
      "text/plain": [
       "<catboost.core.CatBoostRegressor at 0x1dffa2286d0>"
      ]
     },
     "execution_count": 141,
     "metadata": {},
     "output_type": "execute_result"
    }
   ],
   "source": [
    "cat_rating_embs = CatBoostRegressor(eval_metric='RMSE', task_type='GPU')\n",
    "cat_rating_embs.fit(X_rating_train_embs, y_rating_train_embs, verbose=200)"
   ]
  },
  {
   "cell_type": "markdown",
   "metadata": {},
   "source": [
    "# Test"
   ]
  },
  {
   "cell_type": "markdown",
   "metadata": {},
   "source": [
    "## Method 1"
   ]
  },
  {
   "cell_type": "code",
   "execution_count": 142,
   "metadata": {},
   "outputs": [],
   "source": [
    "X_review_test, y_review_test = pd.DataFrame(test_df['review'], columns=['review']), test_df['review_mark']"
   ]
  },
  {
   "cell_type": "code",
   "execution_count": 143,
   "metadata": {},
   "outputs": [],
   "source": [
    "X_review_test_embs, y_review_test_embs = test_df.drop(['name', 'rating', 'review_mark'], axis=1), test_df['review_mark']"
   ]
  },
  {
   "cell_type": "code",
   "execution_count": 173,
   "metadata": {},
   "outputs": [],
   "source": [
    "preds = model_cat.predict(X_review_test)"
   ]
  },
  {
   "cell_type": "code",
   "execution_count": 174,
   "metadata": {},
   "outputs": [
    {
     "name": "stdout",
     "output_type": "stream",
     "text": [
      "Accuracy_score Исаевск: 0.682\n",
      "F1_score Исаевск: 0.69079737959656\n",
      "Mean pred Исаевск rating: 4.6, real rating: 4.9\n",
      "\n",
      "Accuracy_score Максима Славия: 0.74\n",
      "F1_score Максима Славия: 0.7357732099171139\n",
      "Mean pred Максима Славия rating: 4.9, real rating: 4.6\n",
      "\n",
      "Accuracy_score Suleiman Palace Hotel: 0.766\n",
      "F1_score Suleiman Palace Hotel: 0.7655546267740966\n",
      "Mean pred Suleiman Palace Hotel rating: 4.9, real rating: 4.8\n",
      "\n",
      "Accuracy_score Номера на Япее: 0.6131386861313869\n",
      "F1_score Номера на Япее: 0.61686737689839\n",
      "Mean pred Номера на Япее rating: 4.2, real rating: 4.2\n",
      "\n",
      "Accuracy_score Valo Business: 0.8056112224448898\n",
      "F1_score Valo Business: 0.8263183556215868\n",
      "Mean pred Valo Business rating: 5.0, real rating: 5.0\n",
      "\n",
      "Accuracy_score Янр: 0.6876310272536688\n",
      "F1_score Янр: 0.6822717174770133\n",
      "Mean pred Янр rating: 4.6, real rating: 4.3\n",
      "\n",
      "Accuracy_score Апартаменты Восх: 0.63\n",
      "F1_score Апартаменты Восх: 0.6059029771398193\n",
      "Mean pred Апартаменты Восх rating: 4.0, real rating: 3.4\n",
      "\n",
      "Accuracy_score Amici Grand Hotel: 0.7134268537074149\n",
      "F1_score Amici Grand Hotel: 0.7117624691881446\n",
      "Mean pred Amici Grand Hotel rating: 4.5, real rating: 4.9\n",
      "\n",
      "Accuracy_score Ладомир: 0.6991150442477876\n",
      "F1_score Ладомир: 0.6773101422966755\n",
      "Mean pred Ладомир rating: 4.2, real rating: 4.0\n",
      "\n",
      "Accuracy_score Ibis: 0.766\n",
      "F1_score Ibis: 0.7652587820813815\n",
      "Mean pred Ibis rating: 4.7, real rating: 5.0\n",
      "\n",
      "Accuracy_score Байкал 2*: 0.5290581162324649\n",
      "F1_score Байкал 2*: 0.5064783062130541\n",
      "Mean pred Байкал 2* rating: 3.9, real rating: 3.2\n",
      "\n",
      "Accuracy_score Фи: 0.5615763546798029\n",
      "F1_score Фи: 0.5557683981724479\n",
      "Mean pred Фи rating: 4.2, real rating: 3.5\n",
      "\n",
      "Accuracy_score Carat by Undersun: 0.6432865731462926\n",
      "F1_score Carat by Undersun: 0.6323330174229524\n",
      "Mean pred Carat by Undersun rating: 4.3, real rating: 4.6\n",
      "\n",
      "MAE_error: 0.6000000000000001\n",
      "MSE_error: 0.5923076923076924\n",
      "RMSE_error: 0.7696152885095854\n"
     ]
    }
   ],
   "source": [
    "MAE, MSE, RMSE = hotel_metrics(test_df, test_names, model_cat, rating_model=cat_reg, for_each=True, print_metrics=True)"
   ]
  },
  {
   "cell_type": "code",
   "execution_count": 177,
   "metadata": {},
   "outputs": [
    {
     "name": "stdout",
     "output_type": "stream",
     "text": [
      "0.6950438300741739\n",
      "0.689064453626799\n",
      "              precision    recall  f1-score   support\n",
      "\n",
      "           0       0.00      0.00      0.00         6\n",
      "           1       0.59      0.74      0.66       671\n",
      "           2       0.31      0.17      0.22       364\n",
      "           3       0.36      0.38      0.37       671\n",
      "           4       0.46      0.45      0.45       933\n",
      "           5       0.88      0.88      0.88      3287\n",
      "\n",
      "    accuracy                           0.70      5932\n",
      "   macro avg       0.43      0.44      0.43      5932\n",
      "weighted avg       0.69      0.70      0.69      5932\n",
      "\n"
     ]
    }
   ],
   "source": [
    "print(accuracy_score(y_review_test, preds))\n",
    "print(f1_score(y_review_test, preds, average='weighted'))\n",
    "print(classification_report(y_review_test, preds, target_names=['0', '1', '2', '3', '4', '5']))"
   ]
  },
  {
   "cell_type": "code",
   "execution_count": 184,
   "metadata": {},
   "outputs": [
    {
     "data": {
      "text/plain": [
       "{'rating_cat': [0.5615384615384618, 0.5300000000000001, 0.7280109889280519],\n",
       " 'rating_mean': [0.8759390477777197, 1.1485306739144479, 1.0716952336902725],\n",
       " 'rating_linear': [0.653846153846154, 0.7269230769230771, 0.8525978400882078],\n",
       " 'rating_ridge': [0.653846153846154, 0.7284615384615386, 0.8534995831642442]}"
      ]
     },
     "execution_count": 184,
     "metadata": {},
     "output_type": "execute_result"
    }
   ],
   "source": [
    "all_method_one_metrics"
   ]
  },
  {
   "cell_type": "markdown",
   "metadata": {},
   "source": [
    "## Method 2"
   ]
  },
  {
   "cell_type": "code",
   "execution_count": 185,
   "metadata": {},
   "outputs": [],
   "source": [
    "# подготовка данных\n",
    "embs_feats = list(map(str, [i for i in range(312)]))\n",
    "mean_embeddings_test = test_df.groupby('name').agg(\n",
    "    **{f'average_emb_{i}': (f'{i}', 'mean') for i in range(312)},\n",
    "    average_rating=('rating', 'mean')).reset_index()"
   ]
  },
  {
   "cell_type": "code",
   "execution_count": 194,
   "metadata": {},
   "outputs": [],
   "source": [
    "test_names_rating = dict(zip(test_df['name'], test_df['rating']))"
   ]
  },
  {
   "cell_type": "code",
   "execution_count": 205,
   "metadata": {},
   "outputs": [
    {
     "name": "stdout",
     "output_type": "stream",
     "text": [
      "MAE_error: 0.5413500526835688\n",
      "MSE_error: 0.5279642987790549\n",
      "RMSE_error: 0.7266115184739744\n"
     ]
    }
   ],
   "source": [
    "mean_scores = cat_rating_embs.predict(mean_embeddings_test.drop(['name', 'average_rating'], axis=1))\n",
    "true_values = list(test_names_rating.values())\n",
    "MAE = mean_absolute_error(true_values, mean_scores)\n",
    "MSE = mean_squared_error(true_values, mean_scores)\n",
    "RMSE = np.sqrt(MSE)\n",
    "print(f'MAE_error: {MAE}')\n",
    "print(f'MSE_error: {MSE}')\n",
    "print(f'RMSE_error: {RMSE}')"
   ]
  },
  {
   "cell_type": "code",
   "execution_count": 206,
   "metadata": {},
   "outputs": [
    {
     "name": "stdout",
     "output_type": "stream",
     "text": [
      "Mean pred Suleiman Palace Hotel rating: 4.694443953009319, real rating: 4.8\n",
      "Mean pred Ibis rating: 4.5011942428880225, real rating: 5.0\n",
      "Mean pred Максима Славия rating: 4.893925162890028, real rating: 4.6\n",
      "Mean pred Amici Grand Hotel rating: 4.904645041360709, real rating: 4.9\n",
      "Mean pred Апартаменты Восх rating: 4.729626452757429, real rating: 3.4\n",
      "Mean pred Янр rating: 4.176805627425956, real rating: 4.3\n",
      "Mean pred Valo Business rating: 4.1496401597164905, real rating: 5.0\n",
      "Mean pred Carat by Undersun rating: 4.57975036290266, real rating: 4.6\n",
      "Mean pred Исаевск rating: 4.162184644550511, real rating: 4.9\n",
      "Mean pred Байкал 2* rating: 4.825795187169501, real rating: 3.2\n",
      "Mean pred Номера на Япее rating: 4.395513399999405, real rating: 4.2\n",
      "Mean pred Фи rating: 4.1475744067334475, real rating: 3.5\n",
      "Mean pred Ладомир rating: 4.604490024468834, real rating: 4.0\n"
     ]
    }
   ],
   "source": [
    "for indx, name in enumerate(test_names_rating.keys()):\n",
    "    print(f'Mean pred {name} rating: {mean_scores[indx]}, real rating: {test_names_rating[name]}')"
   ]
  },
  {
   "cell_type": "markdown",
   "metadata": {},
   "source": [
    "# **Выводы**"
   ]
  },
  {
   "cell_type": "markdown",
   "metadata": {},
   "source": [
    "> Мы попробовали два подхода для получения рейтинга отеля на основе отзывов <br>\n",
    "По метрикам метод два показал себя лучше, но при детальном анализе видно что на самом деле это не так, <br>\n",
    "модель довольно не стабильна, в отличии от первого подхода"
   ]
  },
  {
   "cell_type": "markdown",
   "metadata": {},
   "source": [
    "**Возможные улушения:**\n",
    "* Собрать большее количество уникальных отелей\n",
    "* Обучить модель архитектуры трансформер на отзывах для более точных эмбедингов\n",
    "* Попробовать ансамблирование моделей для большей устойчивости"
   ]
  }
 ],
 "metadata": {
  "kernelspec": {
   "display_name": "base",
   "language": "python",
   "name": "python3"
  },
  "language_info": {
   "codemirror_mode": {
    "name": "ipython",
    "version": 3
   },
   "file_extension": ".py",
   "mimetype": "text/x-python",
   "name": "python",
   "nbconvert_exporter": "python",
   "pygments_lexer": "ipython3",
   "version": "3.11.7"
  }
 },
 "nbformat": 4,
 "nbformat_minor": 2
}
